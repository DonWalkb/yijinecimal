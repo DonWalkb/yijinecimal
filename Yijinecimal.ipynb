{
  "nbformat": 4,
  "nbformat_minor": 0,
  "metadata": {
    "colab": {
      "name": "Yijinecimal.ipynb",
      "version": "0.3.2",
      "provenance": [],
      "toc_visible": true
    },
    "kernelspec": {
      "name": "python3",
      "display_name": "Python 3"
    }
  },
  "cells": [
    {
      "cell_type": "markdown",
      "metadata": {
        "id": "qsw9R02Mrf-e",
        "colab_type": "text"
      },
      "source": [
        "#Headers"
      ]
    },
    {
      "cell_type": "code",
      "metadata": {
        "id": "yR1AhZ6NnUEL",
        "colab_type": "code",
        "colab": {}
      },
      "source": [
        "import csv\n",
        "import matplotlib as mpl\n",
        "import matplotlib.pyplot as plt\n",
        "import numpy as np\n",
        "from sklearn.linear_model import LinearRegression\n",
        "from sklearn.neural_network import MLPRegressor"
      ],
      "execution_count": 0,
      "outputs": []
    },
    {
      "cell_type": "markdown",
      "metadata": {
        "id": "-2bfRzYQoh9t",
        "colab_type": "text"
      },
      "source": [
        "# Read Data Files"
      ]
    },
    {
      "cell_type": "code",
      "metadata": {
        "id": "Uj6ZCQE1ooOb",
        "colab_type": "code",
        "colab": {}
      },
      "source": [
        "# csvfile = open(\"./stat.csv\",'r') # data without 64\n",
        "csvfile = open(\"./stat_with_64.csv\",'r') # data with 64\n",
        "reader = csv.reader(csvfile, delimiter=',', quotechar='|')\n",
        "\n",
        "decimal = []\n",
        "yijinecimal = []\n",
        "next(reader, None)  # skip the headers\n",
        "\n",
        "for row in reader:\n",
        "  decimal.append(int(row[2]))\n",
        "  yijinecimal.append(int(row[3]))"
      ],
      "execution_count": 0,
      "outputs": []
    },
    {
      "cell_type": "markdown",
      "metadata": {
        "id": "60IGJbe5riuf",
        "colab_type": "text"
      },
      "source": [
        "# Visualize Raw Data"
      ]
    },
    {
      "cell_type": "markdown",
      "metadata": {
        "id": "BtNOZwqYs3_P",
        "colab_type": "text"
      },
      "source": [
        "## Linear Regression"
      ]
    },
    {
      "cell_type": "code",
      "metadata": {
        "id": "2cdGaFhUrmiS",
        "colab_type": "code",
        "outputId": "c16fb2c1-2985-4ab9-e62a-b970ab76e70f",
        "colab": {
          "base_uri": "https://localhost:8080/",
          "height": 350
        }
      },
      "source": [
        "# apply linear regression\n",
        "model = LinearRegression()\n",
        "decimal_ = np.array(decimal).reshape((-1, 1))\n",
        "model.fit(decimal_, yijinecimal)\n",
        "\n",
        "r_sq = model.score(decimal_, yijinecimal)\n",
        "\n",
        "yijinecimal_pred = model.predict(decimal_)\n",
        "\n",
        "print('intercept:', model.intercept_)\n",
        "print('slope:', model.coef_[0])\n",
        "\n",
        "# plt figure\n",
        "fig = plt.figure()\n",
        "plt.plot(decimal, yijinecimal, '.')\n",
        "plt.plot(decimal, yijinecimal_pred, 'r-')\n",
        "plt.xlabel(\"Decimal\")\n",
        "plt.ylabel(\"Yijinecimal\")\n",
        "plt.title(\"$R^2=$\"+str(r_sq))"
      ],
      "execution_count": 3,
      "outputs": [
        {
          "output_type": "stream",
          "text": [
            "intercept: 21882.73091260477\n",
            "slope: 0.19243517438803978\n"
          ],
          "name": "stdout"
        },
        {
          "output_type": "execute_result",
          "data": {
            "text/plain": [
              "Text(0.5, 1.0, '$R^2=$0.6804846087241271')"
            ]
          },
          "metadata": {
            "tags": []
          },
          "execution_count": 3
        },
        {
          "output_type": "display_data",
          "data": {
            "image/png": "[encoded data removed]",
            "text/plain": [
              "<Figure size 432x288 with 1 Axes>"
            ]
          },
          "metadata": {
            "tags": []
          }
        }
      ]
    },
    {
      "cell_type": "markdown",
      "metadata": {
        "id": "Ya1yGM7ItSmk",
        "colab_type": "text"
      },
      "source": [
        "## Logarithmic Representation"
      ]
    },
    {
      "cell_type": "code",
      "metadata": {
        "id": "WrXUAIWRtRC8",
        "colab_type": "code",
        "outputId": "3ba88c2c-dfbe-41b7-ac46-c6590d44417f",
        "colab": {
          "base_uri": "https://localhost:8080/",
          "height": 350
        }
      },
      "source": [
        "decimal_log = np.log(decimal)\n",
        "yijinecimal_log = np.log(yijinecimal)\n",
        "\n",
        "# apply linear on log data\n",
        "model_log = LinearRegression()\n",
        "decimal_log_ = np.array(decimal_log).reshape((-1, 1))\n",
        "model_log.fit(decimal_log_, yijinecimal_log)\n",
        "\n",
        "r_sq = model_log.score(decimal_log_, yijinecimal_log)\n",
        "\n",
        "yijinecimal_log_pred = model_log.predict(decimal_log_)\n",
        "print('intercept:', model_log.intercept_)\n",
        "print('slope:', model_log.coef_[0])\n",
        "\n",
        "# plt figure\n",
        "fig = plt.figure()\n",
        "plt.plot(decimal_log, yijinecimal_log, '.')\n",
        "plt.plot(decimal_log, yijinecimal_log_pred, 'r-')\n",
        "plt.xlabel(\"Decimal Log\")\n",
        "plt.ylabel(\"Yijinecimal Log\")\n",
        "plt.title(\"$R^2=$\"+str(r_sq))"
      ],
      "execution_count": 4,
      "outputs": [
        {
          "output_type": "stream",
          "text": [
            "intercept: 1.598479689715953\n",
            "slope: 0.7695418700090009\n"
          ],
          "name": "stdout"
        },
        {
          "output_type": "execute_result",
          "data": {
            "text/plain": [
              "Text(0.5, 1.0, '$R^2=$0.7077964172985818')"
            ]
          },
          "metadata": {
            "tags": []
          },
          "execution_count": 4
        },
        {
          "output_type": "display_data",
          "data": {
            "image/png": "[encoded data removed]",
            "text/plain": [
              "<Figure size 432x288 with 1 Axes>"
            ]
          },
          "metadata": {
            "tags": []
          }
        }
      ]
    },
    {
      "cell_type": "markdown",
      "metadata": {
        "id": "BUGJXWykGJ1S",
        "colab_type": "text"
      },
      "source": [
        "## MLP Regression"
      ]
    },
    {
      "cell_type": "code",
      "metadata": {
        "id": "vsiWoGjIGMy4",
        "colab_type": "code",
        "colab": {
          "base_uri": "https://localhost:8080/",
          "height": 452
        },
        "outputId": "220974c9-2681-4eb5-eec8-deb4de9dfa9b"
      },
      "source": [
        "model_mlp = MLPRegressor(hidden_layer_sizes=(10,10,10),solver=\"sgd\", max_iter=99999999)\n",
        "model_mlp.fit(decimal_log_, yijinecimal_log)\n",
        "yijinecimal_mlp_pred = model_mlp.predict(decimal_log_)\n",
        "r_sq = model_mlp.score(decimal_log_, yijinecimal_log)\n",
        "print(yijinecimal_mlp_pred)\n",
        "# plt figure\n",
        "fig = plt.figure()\n",
        "plt.plot(decimal_log, yijinecimal_log, '.')\n",
        "plt.plot(decimal_log, yijinecimal_mlp_pred, 'r-')\n",
        "plt.xlabel(\"Decimal Log\")\n",
        "plt.ylabel(\"Yijinecimal Log\")\n",
        "plt.title(\"$R^2=$\"+str(r_sq))"
      ],
      "execution_count": 5,
      "outputs": [
        {
          "output_type": "stream",
          "text": [
            "[11.92175303 11.97531083  9.00797277  9.94175489 10.08795901  9.74846213\n",
            " 10.19019191  9.8413845  11.15875568 11.71665092 11.78312436 11.93995459\n",
            "  9.76781335 10.53004443  9.97291546  9.80533483  8.49360262 10.68359198\n",
            " 12.58602733 13.19596422 10.81512294 10.4424402  10.23733808  9.60023272\n",
            "  9.60023272  9.47749751  9.70849285  9.60023272 10.26003426  9.70849285\n",
            "  9.68783695  9.89293907  9.76781335 10.81512294 10.81512294 10.81512294\n",
            " 10.98270357  8.69870474 10.98270357 10.71828096 10.64754231 10.53004443\n",
            " 10.57090221 10.98270357]\n"
          ],
          "name": "stdout"
        },
        {
          "output_type": "execute_result",
          "data": {
            "text/plain": [
              "Text(0.5, 1.0, '$R^2=$0.6808084309377576')"
            ]
          },
          "metadata": {
            "tags": []
          },
          "execution_count": 5
        },
        {
          "output_type": "display_data",
          "data": {
            "image/png": "[encoded data removed]",
            "text/plain": [
              "<Figure size 432x288 with 1 Axes>"
            ]
          },
          "metadata": {
            "tags": []
          }
        }
      ]
    }
  ]
}