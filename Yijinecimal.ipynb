{
  "nbformat": 4,
  "nbformat_minor": 0,
  "metadata": {
    "colab": {
      "name": "Yijinecimal.ipynb",
      "version": "0.3.2",
      "provenance": [],
      "toc_visible": true
    },
    "kernelspec": {
      "name": "python3",
      "display_name": "Python 3"
    }
  },
  "cells": [
    {
      "cell_type": "markdown",
      "metadata": {
        "id": "qsw9R02Mrf-e",
        "colab_type": "text"
      },
      "source": [
        "#Headers"
      ]
    },
    {
      "cell_type": "code",
      "metadata": {
        "id": "yR1AhZ6NnUEL",
        "colab_type": "code",
        "colab": {}
      },
      "source": [
        "import csv\n",
        "import matplotlib as mpl\n",
        "import matplotlib.pyplot as plt\n",
        "import numpy as np\n",
        "from sklearn.linear_model import LinearRegression\n",
        "from sklearn.neural_network import MLPRegressor"
      ],
      "execution_count": 0,
      "outputs": []
    },
    {
      "cell_type": "markdown",
      "metadata": {
        "id": "-2bfRzYQoh9t",
        "colab_type": "text"
      },
      "source": [
        "# Read Data Files"
      ]
    },
    {
      "cell_type": "code",
      "metadata": {
        "id": "Uj6ZCQE1ooOb",
        "colab_type": "code",
        "colab": {}
      },
      "source": [
        "# csvfile = open(\"./stat.csv\",'r') # data without 64\n",
        "csvfile = open(\"./stat.csv\",'r') # data with 64\n",
        "reader = csv.reader(csvfile, delimiter=',', quotechar='|')\n",
        "\n",
        "decimal = []\n",
        "yijinecimal = []\n",
        "next(reader, None)  # skip the headers\n",
        "\n",
        "for row in reader:\n",
        "  decimal.append(int(row[2]))\n",
        "  yijinecimal.append(int(row[3]))"
      ],
      "execution_count": 0,
      "outputs": []
    },
    {
      "cell_type": "markdown",
      "metadata": {
        "id": "60IGJbe5riuf",
        "colab_type": "text"
      },
      "source": [
        "# Visualize Raw Data"
      ]
    },
    {
      "cell_type": "markdown",
      "metadata": {
        "id": "BtNOZwqYs3_P",
        "colab_type": "text"
      },
      "source": [
        "## Linear Regression"
      ]
    },
    {
      "cell_type": "code",
      "metadata": {
        "id": "2cdGaFhUrmiS",
        "colab_type": "code",
        "outputId": "4987bc48-688f-4320-d894-4322d2fe3fea",
        "colab": {
          "base_uri": "https://localhost:8080/",
          "height": 350
        }
      },
      "source": [
        "# apply linear regression\n",
        "model = LinearRegression()\n",
        "decimal_ = np.array(decimal).reshape((-1, 1))\n",
        "model.fit(decimal_, yijinecimal)\n",
        "\n",
        "r_sq = model.score(decimal_, yijinecimal)\n",
        "\n",
        "yijinecimal_pred = model.predict(decimal_)\n",
        "\n",
        "print('intercept:', model.intercept_)\n",
        "print('slope:', model.coef_[0])\n",
        "\n",
        "# plt figure\n",
        "fig = plt.figure()\n",
        "plt.plot(decimal, yijinecimal, '.')\n",
        "plt.plot(decimal, yijinecimal_pred, 'r-')\n",
        "plt.xlabel(\"Decimal\")\n",
        "plt.ylabel(\"Yijinecimal\")\n",
        "plt.title(\"$R^2=$\"+str(r_sq))"
      ],
      "execution_count": 24,
      "outputs": [
        {
          "output_type": "stream",
          "text": [
            "intercept: 20295.193026948415\n",
            "slope: 0.19128282648475672\n"
          ],
          "name": "stdout"
        },
        {
          "output_type": "execute_result",
          "data": {
            "text/plain": [
              "Text(0.5, 1.0, '$R^2=$0.6870419415931065')"
            ]
          },
          "metadata": {
            "tags": []
          },
          "execution_count": 24
        },
        {
          "output_type": "display_data",
          "data": {
            "image/png": "[encoded data removed]",
            "text/plain": [
              "<Figure size 432x288 with 1 Axes>"
            ]
          },
          "metadata": {
            "tags": []
          }
        }
      ]
    },
    {
      "cell_type": "markdown",
      "metadata": {
        "id": "Ya1yGM7ItSmk",
        "colab_type": "text"
      },
      "source": [
        "## Logarithmic Representation"
      ]
    },
    {
      "cell_type": "code",
      "metadata": {
        "id": "WrXUAIWRtRC8",
        "colab_type": "code",
        "outputId": "70e706ec-2bf9-4670-de07-6d2b0ad60476",
        "colab": {
          "base_uri": "https://localhost:8080/",
          "height": 350
        }
      },
      "source": [
        "decimal_log = np.log(decimal)\n",
        "yijinecimal_log = np.log(yijinecimal)\n",
        "\n",
        "# apply linear on log data\n",
        "model_log = LinearRegression()\n",
        "decimal_log_ = np.array(decimal_log).reshape((-1, 1))\n",
        "model_log.fit(decimal_log_, yijinecimal_log)\n",
        "\n",
        "r_sq = model_log.score(decimal_log_, yijinecimal_log)\n",
        "\n",
        "yijinecimal_log_pred = model_log.predict(decimal_log_)\n",
        "print('intercept:', model_log.intercept_)\n",
        "print('slope:', model_log.coef_[0])\n",
        "\n",
        "# plt figure\n",
        "fig = plt.figure()\n",
        "plt.plot(decimal_log, yijinecimal_log, '.')\n",
        "plt.plot(decimal_log, yijinecimal_log_pred, 'r-')\n",
        "plt.xlabel(\"Decimal Log\")\n",
        "plt.ylabel(\"Yijinecimal Log\")\n",
        "plt.title(\"$R^2=$\"+str(r_sq))"
      ],
      "execution_count": 25,
      "outputs": [
        {
          "output_type": "stream",
          "text": [
            "intercept: 0.4511135711735772\n",
            "slope: 0.8544648539446336\n"
          ],
          "name": "stdout"
        },
        {
          "output_type": "execute_result",
          "data": {
            "text/plain": [
              "Text(0.5, 1.0, '$R^2=$0.8911080821299132')"
            ]
          },
          "metadata": {
            "tags": []
          },
          "execution_count": 25
        },
        {
          "output_type": "display_data",
          "data": {
            "image/png": "[encoded data removed]",
            "text/plain": [
              "<Figure size 432x288 with 1 Axes>"
            ]
          },
          "metadata": {
            "tags": []
          }
        }
      ]
    },
    {
      "cell_type": "markdown",
      "metadata": {
        "id": "BUGJXWykGJ1S",
        "colab_type": "text"
      },
      "source": [
        "## MLP Regression"
      ]
    },
    {
      "cell_type": "code",
      "metadata": {
        "id": "vsiWoGjIGMy4",
        "colab_type": "code",
        "outputId": "c4f07848-f822-4e41-e5eb-136129bf4220",
        "colab": {
          "base_uri": "https://localhost:8080/",
          "height": 316
        }
      },
      "source": [
        "model_mlp = MLPRegressor(hidden_layer_sizes=(10,10,10),solver=\"adam\", max_iter=99999999, activation=\"relu\")\n",
        "model_mlp.fit(decimal_log_, yijinecimal_log)\n",
        "yijinecimal_mlp_pred = model_mlp.predict(decimal_log_)\n",
        "r_sq = model_mlp.score(decimal_log_, yijinecimal_log)\n",
        "\n",
        "# plt figure\n",
        "fig = plt.figure()\n",
        "plt.plot(decimal_log, yijinecimal_log, '.')\n",
        "plt.plot(decimal_log, yijinecimal_mlp_pred, 'r-')\n",
        "plt.xlabel(\"Decimal Log\")\n",
        "plt.ylabel(\"Yijinecimal Log\")\n",
        "plt.title(\"$R^2=$\"+str(r_sq))"
      ],
      "execution_count": 26,
      "outputs": [
        {
          "output_type": "execute_result",
          "data": {
            "text/plain": [
              "Text(0.5, 1.0, '$R^2=$0.7028058917664898')"
            ]
          },
          "metadata": {
            "tags": []
          },
          "execution_count": 26
        },
        {
          "output_type": "display_data",
          "data": {
            "image/png": "[encoded data removed]",
            "text/plain": [
              "<Figure size 432x288 with 1 Axes>"
            ]
          },
          "metadata": {
            "tags": []
          }
        }
      ]
    }
  ]
}